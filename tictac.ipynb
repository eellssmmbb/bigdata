{
 "cells": [
  {
   "cell_type": "code",
   "execution_count": 1,
   "metadata": {},
   "outputs": [],
   "source": [
    "from typing import List\n",
    "\n",
    "def tic_tac_toe_checker(board: List[List[str]]) -> str:\n",
    "    # Проверяем строки и столбцы\n",
    "    for i in range(3):\n",
    "        if board[i][0] == board[i][1] == board[i][2] and board[i][0] != \"-\":\n",
    "            return f\"{board[i][0]} wins!\"\n",
    "        if board[0][i] == board[1][i] == board[2][i] and board[0][i] != \"-\":\n",
    "            return f\"{board[0][i]} wins!\"\n",
    "    \n",
    "    # Проверяем диагонали\n",
    "    if board[0][0] == board[1][1] == board[2][2] and board[0][0] != \"-\":\n",
    "        return f\"{board[0][0]} wins!\"\n",
    "    if board[0][2] == board[1][1] == board[2][0] and board[0][2] != \"-\":\n",
    "        return f\"{board[0][2]} wins!\"\n",
    "    \n",
    "    # Проверяем, есть ли незаполненные клетки\n",
    "    for row in board:\n",
    "        if \"-\" in row:\n",
    "            return \"unfinished!\"\n",
    "    \n",
    "    return \"draw!\"\n"
   ]
  },
  {
   "cell_type": "code",
   "execution_count": 2,
   "metadata": {},
   "outputs": [
    {
     "name": "stdout",
     "output_type": "stream",
     "text": [
      "unfinished!\n",
      "x wins!\n"
     ]
    }
   ],
   "source": [
    "# Примеры досок\n",
    "board1 = [[\"-\", \"-\", \"o\"],\n",
    "          [\"-\", \"x\", \"o\"],\n",
    "          [\"x\", \"o\", \"x\"]]\n",
    "\n",
    "board2 = [[\"-\", \"-\", \"o\"],\n",
    "          [\"-\", \"o\", \"o\"],\n",
    "          [\"x\", \"x\", \"x\"]]\n",
    "\n",
    "# Вывод результатов\n",
    "print(tic_tac_toe_checker(board1))  # unfinished!\n",
    "print(tic_tac_toe_checker(board2))  # x wins!\n",
    "\n"
   ]
  }
 ],
 "metadata": {
  "kernelspec": {
   "display_name": "Python 3",
   "language": "python",
   "name": "python3"
  },
  "language_info": {
   "codemirror_mode": {
    "name": "ipython",
    "version": 3
   },
   "file_extension": ".py",
   "mimetype": "text/x-python",
   "name": "python",
   "nbconvert_exporter": "python",
   "pygments_lexer": "ipython3",
   "version": "3.12.3"
  },
  "orig_nbformat": 4
 },
 "nbformat": 4,
 "nbformat_minor": 2
}
