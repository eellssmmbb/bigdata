{
 "cells": [
  {
   "cell_type": "code",
   "execution_count": 1,
   "metadata": {},
   "outputs": [],
   "source": [
    "import sqlite3\n",
    "from collections.abc import Collection"
   ]
  },
  {
   "cell_type": "code",
   "execution_count": 17,
   "metadata": {},
   "outputs": [
    {
     "name": "stdout",
     "output_type": "stream",
     "text": [
      "Содержимое таблицы presidents:\n",
      "('Yeltsin', 999, 'Russia')\n",
      "('Trump', 1337, 'US')\n",
      "('Big Man Tyrone', 101, 'Kekistan')\n",
      "----------------------------------------\n",
      "Содержимое таблицы books:\n",
      "('Farenheit 451', 'Bradbury')\n",
      "('Brave New World', 'Huxley')\n",
      "('1984', 'Orwell')\n",
      "----------------------------------------\n"
     ]
    }
   ],
   "source": [
    "conn = sqlite3.connect('example.sqlite')\n",
    "cursor = conn.cursor()\n",
    "\n",
    "# Получаем список всех таблиц\n",
    "cursor.execute(\"SELECT name FROM sqlite_master WHERE type='table';\")\n",
    "tables = [table[0] for table in cursor.fetchall()]\n",
    "\n",
    "\n",
    "for table in tables:\n",
    "    print(f\"Содержимое таблицы {table}:\")\n",
    "    cursor.execute(f\"SELECT * FROM {table}\")\n",
    "    rows = cursor.fetchall()\n",
    "    for row in rows:\n",
    "        print(row)\n",
    "    print(\"-\" * 40)  \n",
    "\n",
    "conn.close()\n"
   ]
  },
  {
   "cell_type": "code",
   "execution_count": 5,
   "metadata": {},
   "outputs": [],
   "source": [
    "class TableData(Collection):\n",
    "     \n",
    "    def __init__(self, database_name: str, table_name: str):\n",
    "        \"Инициализация с указанием имени базы данных и таблицы.\"\n",
    "        self.database_name = database_name\n",
    "        self.table_name = table_name\n",
    "    \n",
    "    def _connect(self):\n",
    "        \"Создаёт и возвращает соединение с базой данных.\"\n",
    "        return sqlite3.connect(self.database_name)\n",
    "    \n",
    "    def __len__(self):\n",
    "        \"Возвращает количество записей в таблице.\"\n",
    "        with self._connect() as conn:\n",
    "            cursor = conn.cursor()\n",
    "            cursor.execute(f\"SELECT COUNT(*) FROM {self.table_name}\")\n",
    "            return cursor.fetchone()[0]\n",
    "    \n",
    "    def __getitem__(self, name: str):\n",
    "        \"Возвращает запись из таблицы по значению name.\"\n",
    "        with self._connect() as conn:\n",
    "            cursor = conn.cursor()\n",
    "            cursor.execute(f\"SELECT * FROM {self.table_name} WHERE name = ?\", (name,))\n",
    "            row = cursor.fetchone()\n",
    "            if row is None:\n",
    "                raise KeyError(f\"No entry found with name: {name}\")\n",
    "            return row\n",
    "    \n",
    "    def __contains__(self, name: str):\n",
    "        \"Проверяет, есть ли запись с данным name в таблице.\"\n",
    "        with self._connect() as conn:\n",
    "            cursor = conn.cursor()\n",
    "            cursor.execute(f\"SELECT 1 FROM {self.table_name} WHERE name = ?\", (name,))\n",
    "            return cursor.fetchone() is not None\n",
    "    \n",
    "    def __iter__(self):\n",
    "        \"Позволяет итерироваться по записям таблицы построчно.\"\n",
    "        with self._connect() as conn:\n",
    "            cursor = conn.cursor()\n",
    "            cursor.execute(f\"SELECT * FROM {self.table_name}\")\n",
    "            yield from cursor\n"
   ]
  },
  {
   "cell_type": "code",
   "execution_count": 6,
   "metadata": {},
   "outputs": [],
   "source": [
    "presidents = TableData(database_name='example.sqlite', table_name='presidents')\n"
   ]
  },
  {
   "cell_type": "code",
   "execution_count": 7,
   "metadata": {},
   "outputs": [
    {
     "name": "stdout",
     "output_type": "stream",
     "text": [
      "3\n"
     ]
    }
   ],
   "source": [
    "print(len(presidents))  \n"
   ]
  },
  {
   "cell_type": "code",
   "execution_count": 18,
   "metadata": {},
   "outputs": [
    {
     "name": "stdout",
     "output_type": "stream",
     "text": [
      "True\n"
     ]
    }
   ],
   "source": [
    "print('Yeltsin' in presidents)  # True, если есть такой президент, иначе False\n"
   ]
  },
  {
   "cell_type": "code",
   "execution_count": 10,
   "metadata": {},
   "outputs": [
    {
     "name": "stdout",
     "output_type": "stream",
     "text": [
      "('Yeltsin', 999, 'Russia')\n",
      "('Trump', 1337, 'US')\n",
      "('Big Man Tyrone', 101, 'Kekistan')\n"
     ]
    }
   ],
   "source": [
    "for president in presidents:\n",
    "    print(president)"
   ]
  },
  {
   "cell_type": "code",
   "execution_count": 11,
   "metadata": {},
   "outputs": [
    {
     "name": "stdout",
     "output_type": "stream",
     "text": [
      "('Yeltsin', 999, 'Russia')\n"
     ]
    }
   ],
   "source": [
    "print(presidents['Yeltsin'])  # Выведет кортеж с данными о Борисе Ельцине\n"
   ]
  }
 ],
 "metadata": {
  "kernelspec": {
   "display_name": "Python 3",
   "language": "python",
   "name": "python3"
  },
  "language_info": {
   "codemirror_mode": {
    "name": "ipython",
    "version": 3
   },
   "file_extension": ".py",
   "mimetype": "text/x-python",
   "name": "python",
   "nbconvert_exporter": "python",
   "pygments_lexer": "ipython3",
   "version": "3.12.3"
  },
  "orig_nbformat": 4
 },
 "nbformat": 4,
 "nbformat_minor": 2
}
