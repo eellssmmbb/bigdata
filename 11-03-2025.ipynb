{
 "cells": [
  {
   "cell_type": "markdown",
   "metadata": {},
   "source": [
    "task02"
   ]
  },
  {
   "cell_type": "code",
   "execution_count": 1,
   "metadata": {},
   "outputs": [],
   "source": [
    "from typing import Sequence\n",
    "\n",
    "def check_fibonacci(data: Sequence[int]) -> bool:\n",
    " \n",
    "    if not data:  # Проверка на пустую последовательность\n",
    "        return False\n",
    "    \n",
    "    if len(data) == 1:  # Если один элемент, он должен быть 0 или 1\n",
    "        return data[0] in {0, 1}\n",
    "    \n",
    "    if len(data) == 2:  # Если два элемента, они должны быть (0,1) или (1,1)\n",
    "        return data in ([0, 1], [1, 1])\n",
    "    \n",
    "    # Проверяем каждое число, начиная с третьего\n",
    "    for i in range(2, len(data)):\n",
    "        if data[i] != data[i - 1] + data[i - 2]:  # Число должно быть суммой двух предыдущих\n",
    "            return False\n",
    "\n",
    "    return True  # Если все числа соответствуют правилу, возвращаем True\n",
    "\n",
    "\n"
   ]
  },
  {
   "cell_type": "code",
   "execution_count": 2,
   "metadata": {},
   "outputs": [
    {
     "name": "stdout",
     "output_type": "stream",
     "text": [
      "True\n"
     ]
    }
   ],
   "source": [
    "print(check_fibonacci([0, 1, 1, 2, 3, 5, 8])) "
   ]
  },
  {
   "cell_type": "code",
   "execution_count": 3,
   "metadata": {},
   "outputs": [
    {
     "name": "stdout",
     "output_type": "stream",
     "text": [
      "False\n"
     ]
    }
   ],
   "source": [
    "print(check_fibonacci([0, 1, 1, 2, 3, 5, 8, 15])) "
   ]
  },
  {
   "cell_type": "markdown",
   "metadata": {},
   "source": [
    "task05"
   ]
  },
  {
   "cell_type": "code",
   "execution_count": 4,
   "metadata": {},
   "outputs": [],
   "source": [
    "from typing import List\n",
    "\n",
    "def find_maximal_subarray_sum(nums: List[int], k: int) -> int:\n",
    "    max_sum = float('-inf')  # Минимальное возможное значение\n",
    "    n = len(nums)\n",
    "    \n",
    "    for size in range(1, k + 1):  # Перебираем размеры подмассивов от 1 до k\n",
    "        current_sum = sum(nums[:size])  # Начальная сумма первого подмассива\n",
    "        max_sum = max(max_sum, current_sum)  # Обновляем максимум\n",
    "\n",
    "        for i in range(size, n):  # Двигаем окно вправо\n",
    "            current_sum += nums[i] - nums[i - size]  # Обновляем сумму\n",
    "            max_sum = max(max_sum, current_sum)  # Проверяем максимум\n",
    "\n",
    "    return max_sum"
   ]
  },
  {
   "cell_type": "code",
   "execution_count": 5,
   "metadata": {},
   "outputs": [
    {
     "name": "stdout",
     "output_type": "stream",
     "text": [
      "16\n"
     ]
    }
   ],
   "source": [
    "# Тесты\n",
    "print(find_maximal_subarray_sum([1, 3, -1, -3, 5, 3, 6, 7], 3))  # 16"
   ]
  }
 ],
 "metadata": {
  "kernelspec": {
   "display_name": "Python 3",
   "language": "python",
   "name": "python3"
  },
  "language_info": {
   "codemirror_mode": {
    "name": "ipython",
    "version": 3
   },
   "file_extension": ".py",
   "mimetype": "text/x-python",
   "name": "python",
   "nbconvert_exporter": "python",
   "pygments_lexer": "ipython3",
   "version": "3.12.3"
  },
  "orig_nbformat": 4
 },
 "nbformat": 4,
 "nbformat_minor": 2
}
