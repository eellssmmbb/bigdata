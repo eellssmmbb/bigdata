{
 "cells": [
  {
   "cell_type": "code",
   "execution_count": 1,
   "metadata": {},
   "outputs": [],
   "source": [
    "import string\n",
    "from collections import Counter\n",
    "from typing import List\n"
   ]
  },
  {
   "cell_type": "code",
   "execution_count": 3,
   "metadata": {},
   "outputs": [],
   "source": [
    "file = \"data.txt\""
   ]
  },
  {
   "cell_type": "code",
   "execution_count": 4,
   "metadata": {},
   "outputs": [],
   "source": [
    "def get_longest_diverse_words(file: str) -> List[str]:\n",
    "    \"\"\"\n",
    "    Находит 10 самых длинных слов, содержащих наибольшее количество уникальных символов.\n",
    "    \"\"\"\n",
    "    words = set()\n",
    "\n",
    "    with open(file, encoding=\"utf-8\") as file:\n",
    "        for line in file:\n",
    "            for word in line.split():\n",
    "                word = word.strip(string.punctuation)\n",
    "                words.add(word)\n",
    "\n",
    "    return sorted(words, key=lambda w: (-len(set(w)), -len(w)))[:10]\n"
   ]
  },
  {
   "cell_type": "code",
   "execution_count": 6,
   "metadata": {},
   "outputs": [
    {
     "name": "stdout",
     "output_type": "stream",
     "text": [
      "10 самых длинных слов: ['Bev\\\\u00f6lkerungsabschub', 'unmi\\\\u00dfverst\\\\u00e4ndliche', 'Werkst\\\\u00e4ttenlandschaft', 'Selbstverst\\\\u00e4ndlich', 'r\\\\u00e9sistance-Bewegungen', 'Millionenbev\\\\u00f6lkerung', 'Gemeinpl\\\\u00e4tze.\\\\u00ab', 'u00fcberw\\\\u00e4ltigende', 'u00fcberw\\\\u00e4ltigend', 'Gro\\\\u00dfkampfmittel']\n"
     ]
    }
   ],
   "source": [
    "# 1. 10 самых длинных слов с наибольшим количеством уникальных символов\n",
    "longest_diverse_words = get_longest_diverse_words(file)\n",
    "print(\"10 самых длинных слов:\", longest_diverse_words)\n"
   ]
  },
  {
   "cell_type": "code",
   "execution_count": 7,
   "metadata": {},
   "outputs": [],
   "source": [
    "def get_rarest_char(file: str) -> str:\n",
    "    \"\"\"\n",
    "    Находит самый редкий символ в документе.\n",
    "    \"\"\"\n",
    "    counter = Counter()\n",
    "\n",
    "    with open(file, encoding=\"utf-8\") as file:\n",
    "        for line in file:\n",
    "            counter.update(line)\n",
    "\n",
    "    return min(counter, key=counter.get)"
   ]
  },
  {
   "cell_type": "code",
   "execution_count": 9,
   "metadata": {},
   "outputs": [
    {
     "name": "stdout",
     "output_type": "stream",
     "text": [
      "Самый редкий символ: Y\n"
     ]
    }
   ],
   "source": [
    "# 2. Cамый редкий символ в документе\n",
    "rarest_char = get_rarest_char(file)\n",
    "print(\"Самый редкий символ:\", rarest_char)"
   ]
  },
  {
   "cell_type": "code",
   "execution_count": 10,
   "metadata": {},
   "outputs": [],
   "source": [
    "def count_punctuation_chars(file: str) -> int:\n",
    "    \"\"\"\n",
    "    Подсчитывает количество знаков пунктуации в документе.\n",
    "    \"\"\"\n",
    "    counter = 0\n",
    "\n",
    "    with open(file, encoding=\"utf-8\") as file:\n",
    "        for line in file:\n",
    "            counter += sum(1 for char in line if char in string.punctuation)\n",
    "\n",
    "    return counter\n"
   ]
  },
  {
   "cell_type": "code",
   "execution_count": 11,
   "metadata": {},
   "outputs": [
    {
     "name": "stdout",
     "output_type": "stream",
     "text": [
      "Количество знаков пунктуации: 8277\n"
     ]
    }
   ],
   "source": [
    "# 3. Количество знаков пунктуации\n",
    "punctuation_count = count_punctuation_chars(file)\n",
    "print(\"Количество знаков пунктуации:\", punctuation_count)"
   ]
  },
  {
   "cell_type": "code",
   "execution_count": 12,
   "metadata": {},
   "outputs": [],
   "source": [
    "def count_non_ascii_chars(file: str) -> int:\n",
    "    \"\"\"\n",
    "    Подсчитывает количество не-ASCII символов в документе.\n",
    "    \"\"\"\n",
    "    counter = 0\n",
    "\n",
    "    with open(file, encoding=\"utf-8\") as file:\n",
    "        for line in file:\n",
    "            counter += sum(1 for char in line if ord(char) > 127)\n",
    "\n",
    "    return counter"
   ]
  },
  {
   "cell_type": "code",
   "execution_count": 13,
   "metadata": {},
   "outputs": [
    {
     "name": "stdout",
     "output_type": "stream",
     "text": [
      "Количество не-ASCII символов: 0\n"
     ]
    }
   ],
   "source": [
    "# 4. Количество не-ASCII символов\n",
    "non_ascii_count = count_non_ascii_chars(file)\n",
    "print(\"Количество не-ASCII символов:\", non_ascii_count)"
   ]
  },
  {
   "cell_type": "code",
   "execution_count": 15,
   "metadata": {},
   "outputs": [],
   "source": [
    "def get_most_common_non_ascii_char(file_path: str) -> str:\n",
    "    \"\"\"\n",
    "    Находит наиболее часто встречающийся не-ASCII символ в документе.\n",
    "    \"\"\"\n",
    "    counter = Counter()\n",
    "\n",
    "    with open(file_path, encoding=\"utf-8\") as file:\n",
    "        for line in file:\n",
    "            counter.update(char for char in line if ord(char) > 127)\n",
    "\n",
    "    return max(counter, key=counter.get)"
   ]
  },
  {
   "cell_type": "code",
   "execution_count": 16,
   "metadata": {},
   "outputs": [
    {
     "ename": "ValueError",
     "evalue": "max() iterable argument is empty",
     "output_type": "error",
     "traceback": [
      "\u001b[1;31m---------------------------------------------------------------------------\u001b[0m",
      "\u001b[1;31mValueError\u001b[0m                                Traceback (most recent call last)",
      "Cell \u001b[1;32mIn[16], line 2\u001b[0m\n\u001b[0;32m      1\u001b[0m \u001b[39m# 5. Наиболее часто встречающийся не-ASCII символ\u001b[39;00m\n\u001b[1;32m----> 2\u001b[0m most_common_non_ascii_char \u001b[39m=\u001b[39m get_most_common_non_ascii_char(file)\n\u001b[0;32m      3\u001b[0m \u001b[39mprint\u001b[39m(\u001b[39m\"\u001b[39m\u001b[39mНаиболее часто встречающийся не-ASCII символ:\u001b[39m\u001b[39m\"\u001b[39m, most_common_non_ascii_char)\n",
      "Cell \u001b[1;32mIn[15], line 11\u001b[0m, in \u001b[0;36mget_most_common_non_ascii_char\u001b[1;34m(file_path)\u001b[0m\n\u001b[0;32m      8\u001b[0m     \u001b[39mfor\u001b[39;00m line \u001b[39min\u001b[39;00m file:\n\u001b[0;32m      9\u001b[0m         counter\u001b[39m.\u001b[39mupdate(char \u001b[39mfor\u001b[39;00m char \u001b[39min\u001b[39;00m line \u001b[39mif\u001b[39;00m \u001b[39mord\u001b[39m(char) \u001b[39m>\u001b[39m \u001b[39m127\u001b[39m)\n\u001b[1;32m---> 11\u001b[0m \u001b[39mreturn\u001b[39;00m \u001b[39mmax\u001b[39;49m(counter, key\u001b[39m=\u001b[39;49mcounter\u001b[39m.\u001b[39;49mget)\n",
      "\u001b[1;31mValueError\u001b[0m: max() iterable argument is empty"
     ]
    }
   ],
   "source": [
    "# 5. Наиболее часто встречающийся не-ASCII символ\n",
    "most_common_non_ascii_char = get_most_common_non_ascii_char(file)\n",
    "print(\"Наиболее часто встречающийся не-ASCII символ:\", most_common_non_ascii_char)"
   ]
  },
  {
   "cell_type": "markdown",
   "metadata": {},
   "source": [
    "нет non ascii символов, поэтому и ошибка"
   ]
  }
 ],
 "metadata": {
  "kernelspec": {
   "display_name": "Python 3",
   "language": "python",
   "name": "python3"
  },
  "language_info": {
   "codemirror_mode": {
    "name": "ipython",
    "version": 3
   },
   "file_extension": ".py",
   "mimetype": "text/x-python",
   "name": "python",
   "nbconvert_exporter": "python",
   "pygments_lexer": "ipython3",
   "version": "3.12.3"
  },
  "orig_nbformat": 4
 },
 "nbformat": 4,
 "nbformat_minor": 2
}
