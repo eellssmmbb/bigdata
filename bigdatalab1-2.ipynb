{
 "cells": [
  {
   "cell_type": "code",
   "execution_count": 2,
   "metadata": {},
   "outputs": [],
   "source": [
    "import datetime\n",
    "from collections import defaultdict"
   ]
  },
  {
   "cell_type": "code",
   "execution_count": 3,
   "metadata": {},
   "outputs": [],
   "source": [
    "\n",
    "class Homework:\n",
    "\n",
    "    def __init__(self, text: str, days: int):\n",
    "        \n",
    "        self.text = text\n",
    "        self.deadline = datetime.timedelta(days=days)\n",
    "        self.created = datetime.datetime.now()\n",
    "\n",
    "        \n",
    "    def is_active(self) -> bool:\n",
    "        \n",
    "        return datetime.datetime.now() - self.created < self.deadline\n"
   ]
  },
  {
   "cell_type": "code",
   "execution_count": 4,
   "metadata": {},
   "outputs": [],
   "source": [
    "class Student:\n",
    "    def __init__(self, first_name: str, last_name: str):\n",
    "        \n",
    "        self.first_name = first_name\n",
    "        self.last_name = last_name\n",
    "\n",
    "    def do_homework(self, homework: Homework):\n",
    "\n",
    "        if not homework.is_active():\n",
    "            print(\"You are late\")\n",
    "            return None\n",
    "        return homework"
   ]
  },
  {
   "cell_type": "code",
   "execution_count": 5,
   "metadata": {},
   "outputs": [],
   "source": [
    "class Teacher:\n",
    " \n",
    "    def __init__(self, first_name: str, last_name: str):\n",
    "        self.first_name = first_name\n",
    "        self.last_name = last_name\n",
    "\n",
    "    @staticmethod\n",
    "    def create_homework(text: str, days: int) -> Homework:\n",
    "        \n",
    "        return Homework(text, days)"
   ]
  },
  {
   "cell_type": "code",
   "execution_count": 6,
   "metadata": {},
   "outputs": [
    {
     "name": "stdout",
     "output_type": "stream",
     "text": [
      "Shadrin\n",
      "Roman\n",
      "2025-03-09 14:04:53.969044\n",
      "0:00:00\n",
      "Learn functions\n",
      "5 days, 0:00:00\n",
      "You are late\n"
     ]
    }
   ],
   "source": [
    "if __name__ == \"__main__\":\n",
    "    # Создаём преподавателя и студента\n",
    "    teacher = Teacher(\"Daniil\", \"Shadrin\")\n",
    "    student = Student(\"Roman\", \"Petrov\")\n",
    "\n",
    "    # Выводим фамилию преподавателя и имя студента\n",
    "    print(teacher.last_name)  # Shadrin\n",
    "    print(student.first_name)  # Roman\n",
    "\n",
    "    # Создаём задание с истёкшим сроком\n",
    "    expired_homework = teacher.create_homework(\"Learn functions\", 0)\n",
    "    print(expired_homework.created)  # Example: 2025-03-04 12:00:00.000000\n",
    "    print(expired_homework.deadline)  # 0:00:00\n",
    "    print(expired_homework.text)  # 'Learn functions'\n",
    "\n",
    "    # Используем метод создания задания через переменную\n",
    "    create_homework_too = teacher.create_homework\n",
    "    oop_homework = create_homework_too(\"Create 2 simple classes\", 5)\n",
    "    print(oop_homework.deadline)  # 5 days, 0:00:00\n",
    "\n",
    "    # Студент пытается выполнить задания\n",
    "    student.do_homework(oop_homework)  # Выполняется успешно\n",
    "    student.do_homework(expired_homework)  # Выводит \"You are late\"\n"
   ]
  },
  {
   "cell_type": "code",
   "execution_count": 7,
   "metadata": {},
   "outputs": [],
   "source": [
    "class DeadlineError(Exception):\n",
    "    \n",
    "    pass"
   ]
  },
  {
   "cell_type": "code",
   "execution_count": 8,
   "metadata": {},
   "outputs": [],
   "source": [
    "class Homework:\n",
    "    \n",
    "    def __init__(self, text: str, days: int):\n",
    "        self.text = text\n",
    "        self.deadline = datetime.timedelta(days=days)\n",
    "        self.created = datetime.datetime.now()\n",
    "\n",
    "    def is_active(self) -> bool:\n",
    "       \n",
    "        return datetime.datetime.now() - self.created < self.deadline\n"
   ]
  },
  {
   "cell_type": "code",
   "execution_count": 9,
   "metadata": {},
   "outputs": [],
   "source": [
    "class HomeworkResult:\n",
    "    def __init__(self, author, homework, solution: str):\n",
    "        if not isinstance(homework, Homework):\n",
    "            raise TypeError(\"You gave a not Homework object\")\n",
    "        self.author = author\n",
    "        self.homework = homework\n",
    "        self.solution = solution\n",
    "        self.created = datetime.datetime.now()\n"
   ]
  },
  {
   "cell_type": "code",
   "execution_count": 10,
   "metadata": {},
   "outputs": [],
   "source": [
    "class Person:\n",
    "    def __init__(self, first_name: str, last_name: str):\n",
    "        self.first_name = first_name\n",
    "        self.last_name = last_name\n"
   ]
  },
  {
   "cell_type": "code",
   "execution_count": 11,
   "metadata": {},
   "outputs": [],
   "source": [
    "class Student(Person):\n",
    "    def do_homework(self, homework: Homework, solution: str) -> HomeworkResult:\n",
    "        if not homework.is_active():\n",
    "            raise DeadlineError(\"You are late\")\n",
    "        return HomeworkResult(self, homework, solution)\n"
   ]
  },
  {
   "cell_type": "code",
   "execution_count": 14,
   "metadata": {},
   "outputs": [],
   "source": [
    "class Teacher(Person):\n",
    "    \n",
    "    homework_done = defaultdict(set)\n",
    "\n",
    "    @staticmethod\n",
    "    def create_homework(text: str, days: int) -> Homework:\n",
    "        return Homework(text, days)\n",
    "    \n",
    "    @classmethod\n",
    "    def check_homework(cls, result: HomeworkResult) -> bool:\n",
    "        if len(result.solution) > 5:\n",
    "            cls.homework_done[result.homework].add(result)\n",
    "            return True\n",
    "        return False\n",
    "\n",
    "    @classmethod\n",
    "    def reset_results(cls, homework: Homework = None):\n",
    "        if homework:\n",
    "            cls.homework_done.pop(homework, None)\n",
    "        else:\n",
    "            cls.homework_done.clear()\n",
    "\n"
   ]
  },
  {
   "cell_type": "code",
   "execution_count": 15,
   "metadata": {},
   "outputs": [],
   "source": [
    "opp_teacher = Teacher(\"Daniil\", \"Shadrin\")\n",
    "advanced_python_teacher = Teacher(\"Aleksandr\", \"Smetanin\")\n",
    "\n",
    "lazy_student = Student(\"Roman\", \"Petrov\")\n",
    "good_student = Student(\"Lev\", \"Sokolov\")"
   ]
  },
  {
   "cell_type": "code",
   "execution_count": 16,
   "metadata": {},
   "outputs": [
    {
     "data": {
      "text/plain": [
       "'Shadrin'"
      ]
     },
     "execution_count": 16,
     "metadata": {},
     "output_type": "execute_result"
    }
   ],
   "source": [
    "opp_teacher.last_name"
   ]
  },
  {
   "cell_type": "code",
   "execution_count": 18,
   "metadata": {},
   "outputs": [],
   "source": [
    "oop_hw = opp_teacher.create_homework(\"Learn OOP\", 1)\n",
    "docs_hw = opp_teacher.create_homework(\"Read docs\", 5)\n"
   ]
  },
  {
   "cell_type": "code",
   "execution_count": 19,
   "metadata": {},
   "outputs": [],
   "source": [
    "result_1 = good_student.do_homework(oop_hw, \"I have done this hw\")\n",
    "result_2 = good_student.do_homework(docs_hw, \"I have done this hw too\")\n",
    "result_3 = lazy_student.do_homework(docs_hw, \"done\")"
   ]
  },
  {
   "cell_type": "code",
   "execution_count": 22,
   "metadata": {},
   "outputs": [
    {
     "data": {
      "text/plain": [
       "'I have done this hw'"
      ]
     },
     "execution_count": 22,
     "metadata": {},
     "output_type": "execute_result"
    }
   ],
   "source": [
    "result_1.solution"
   ]
  },
  {
   "cell_type": "code",
   "execution_count": 17,
   "metadata": {},
   "outputs": [
    {
     "name": "stdout",
     "output_type": "stream",
     "text": [
      "There was an exception here\n",
      "{<__main__.HomeworkResult object at 0x0000022DF4DEC1A0>}\n"
     ]
    }
   ],
   "source": [
    "\n",
    "try:\n",
    "    result_4 = HomeworkResult(good_student, \"fff\", \"Solution\")\n",
    "except Exception:\n",
    "    print(\"There was an exception here\")\n",
    "\n",
    "opp_teacher.check_homework(result_1)\n",
    "temp_1 = opp_teacher.homework_done\n",
    "\n",
    "advanced_python_teacher.check_homework(result_1)\n",
    "temp_2 = Teacher.homework_done\n",
    "\n",
    "assert temp_1 == temp_2\n",
    "\n",
    "opp_teacher.check_homework(result_2)\n",
    "opp_teacher.check_homework(result_3)\n",
    "\n",
    "print(Teacher.homework_done[oop_hw])\n",
    "Teacher.reset_results()\n"
   ]
  }
 ],
 "metadata": {
  "kernelspec": {
   "display_name": "Python 3",
   "language": "python",
   "name": "python3"
  },
  "language_info": {
   "codemirror_mode": {
    "name": "ipython",
    "version": 3
   },
   "file_extension": ".py",
   "mimetype": "text/x-python",
   "name": "python",
   "nbconvert_exporter": "python",
   "pygments_lexer": "ipython3",
   "version": "3.12.3"
  },
  "orig_nbformat": 4
 },
 "nbformat": 4,
 "nbformat_minor": 2
}
